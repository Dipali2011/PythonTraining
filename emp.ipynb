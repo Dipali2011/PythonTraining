{
 "cells": [
  {
   "cell_type": "code",
   "execution_count": 1,
   "id": "f7c85faa",
   "metadata": {},
   "outputs": [
    {
     "name": "stdout",
     "output_type": "stream",
     "text": [
      "1.Create employee\n",
      "2.update\n",
      "3.delete\n",
      "4.display\n",
      "5.exit\n",
      "enter the choice:1\n",
      "enter the namedipali\n",
      "enter id233\n",
      "enter technologiesc++,java\n",
      "1.Create employee\n",
      "2.update\n",
      "3.delete\n",
      "4.display\n",
      "5.exit\n",
      "enter the choice:4\n",
      "{233: {'name': 'dipali', 'emp_id': 233, 'Technology': ['c++', 'java']}}\n",
      "1.Create employee\n",
      "2.update\n",
      "3.delete\n",
      "4.display\n",
      "5.exit\n",
      "enter the choice:3\n",
      "Enter employee id to delete the record233\n",
      "1.Create employee\n",
      "2.update\n",
      "3.delete\n",
      "4.display\n",
      "5.exit\n",
      "enter the choice:4\n",
      "{}\n",
      "1.Create employee\n",
      "2.update\n",
      "3.delete\n",
      "4.display\n",
      "5.exit\n",
      "enter the choice:5\n"
     ]
    }
   ],
   "source": [
    "emp_info = {}\n",
    "while True:\n",
    "    print(\"1.Create employee\")\n",
    "    print(\"2.update\")\n",
    "    print(\"3.delete\")\n",
    "    print(\"4.display\")\n",
    "    print(\"5.exit\")\n",
    "    ch=int(input(\"enter the choice:\"))\n",
    "    if ch==1:\n",
    "        name = input(\"enter the name\")\n",
    "        emp_id=int(input(\"enter id\"))\n",
    "        tech = input(\"enter technologies\")\n",
    "        emp_info[emp_id]={\"name\":name,\"emp_id\":emp_id,\"Technology\":tech.split(',')}\n",
    "    elif ch== 2:\n",
    "        who = int(input(\"whos details you want to update\"))\n",
    "        rec = emp_info[who]\n",
    "        for field,value in rec.items():\n",
    "            new = input('{}({})'.format(field,value))\n",
    "            emp_info[who][field] = value if new==''else new\n",
    "    elif ch== 3:\n",
    "        emp_id= int(input(\"Enter employee id to delete the record\"))\n",
    "        del emp_info[emp_id]\n",
    "\n",
    "    elif ch == 4:\n",
    "        print(emp_info)\n",
    "    else:\n",
    "        break\n",
    "    "
   ]
  },
  {
   "cell_type": "code",
   "execution_count": null,
   "id": "5bb81bff",
   "metadata": {},
   "outputs": [],
   "source": [
    "print(\"helli\")"
   ]
  },
  {
   "cell_type": "code",
   "execution_count": null,
   "id": "54270e95",
   "metadata": {},
   "outputs": [],
   "source": [
    "n = [1,2,3,4,5]\n",
    "num = int(input(\"entr\"))\n",
    "square = [num**2 for num in n]\n",
    "ind = n.index\n"
   ]
  },
  {
   "cell_type": "code",
   "execution_count": 2,
   "id": "012316e3",
   "metadata": {},
   "outputs": [
    {
     "name": "stdout",
     "output_type": "stream",
     "text": [
      "(6, 5, 3, 2, 1)\n"
     ]
    }
   ],
   "source": [
    "tp = (1,2,3,5,6)\n",
    "tp1 = tp[::-1]\n",
    "print(tp1)"
   ]
  },
  {
   "cell_type": "code",
   "execution_count": 5,
   "id": "4a2828d9",
   "metadata": {},
   "outputs": [],
   "source": [
    "def get_data(name,*args,**kwargs):\n",
    "    print(\"name\",name)\n",
    "    print(\"name\",args)\n",
    "    print(\"name\",kwargs)\n",
    "    print(\"name\")\n",
    "    \n",
    "    "
   ]
  },
  {
   "cell_type": "code",
   "execution_count": 6,
   "id": "301277f7",
   "metadata": {},
   "outputs": [
    {
     "name": "stdout",
     "output_type": "stream",
     "text": [
      "name dipali\n",
      "name (12, 45, 50, {'hjk'})\n",
      "name {}\n",
      "name\n"
     ]
    }
   ],
   "source": [
    "get_data(\"dipali\",12,45,50,{\"hjk\"})"
   ]
  },
  {
   "cell_type": "code",
   "execution_count": 2,
   "id": "60991b58",
   "metadata": {},
   "outputs": [
    {
     "name": "stdout",
     "output_type": "stream",
     "text": [
      "enter the number8\n",
      "1\n",
      "2\n",
      "3\n",
      "4\n",
      "5\n",
      "6\n",
      "7\n",
      "8\n"
     ]
    }
   ],
   "source": [
    "\n",
    "\n",
    "num = int(input(\"enter the number\"))\n",
    "\n",
    "def natural_no(num):\n",
    "    for i in range(1,num+1):\n",
    "        print(i)\n",
    "    \n",
    "natural_no(num)\n"
   ]
  },
  {
   "cell_type": "code",
   "execution_count": 1,
   "id": "1287073c",
   "metadata": {},
   "outputs": [
    {
     "name": "stdout",
     "output_type": "stream",
     "text": [
      "16\n"
     ]
    }
   ],
   "source": [
    "a=4**2\n",
    "print(a)\n",
    "\n",
    "\n"
   ]
  },
  {
   "cell_type": "code",
   "execution_count": 1,
   "id": "649b7b9a",
   "metadata": {},
   "outputs": [
    {
     "data": {
      "text/plain": [
       "['__add__',\n",
       " '__class__',\n",
       " '__class_getitem__',\n",
       " '__contains__',\n",
       " '__delattr__',\n",
       " '__delitem__',\n",
       " '__dir__',\n",
       " '__doc__',\n",
       " '__eq__',\n",
       " '__format__',\n",
       " '__ge__',\n",
       " '__getattribute__',\n",
       " '__getitem__',\n",
       " '__gt__',\n",
       " '__hash__',\n",
       " '__iadd__',\n",
       " '__imul__',\n",
       " '__init__',\n",
       " '__init_subclass__',\n",
       " '__iter__',\n",
       " '__le__',\n",
       " '__len__',\n",
       " '__lt__',\n",
       " '__mul__',\n",
       " '__ne__',\n",
       " '__new__',\n",
       " '__reduce__',\n",
       " '__reduce_ex__',\n",
       " '__repr__',\n",
       " '__reversed__',\n",
       " '__rmul__',\n",
       " '__setattr__',\n",
       " '__setitem__',\n",
       " '__sizeof__',\n",
       " '__str__',\n",
       " '__subclasshook__',\n",
       " 'append',\n",
       " 'clear',\n",
       " 'copy',\n",
       " 'count',\n",
       " 'extend',\n",
       " 'index',\n",
       " 'insert',\n",
       " 'pop',\n",
       " 'remove',\n",
       " 'reverse',\n",
       " 'sort']"
      ]
     },
     "execution_count": 1,
     "metadata": {},
     "output_type": "execute_result"
    }
   ],
   "source": [
    "x=[1,2,3]\n",
    "dir(x)"
   ]
  },
  {
   "cell_type": "code",
   "execution_count": 2,
   "id": "7e33d0c1",
   "metadata": {},
   "outputs": [
    {
     "data": {
      "text/plain": [
       "[1, 8, 27, 64, 125, 216]"
      ]
     },
     "execution_count": 2,
     "metadata": {},
     "output_type": "execute_result"
    }
   ],
   "source": [
    "l = [1,2,3,4,5,6]\n",
    "list(map(lambda x:pow(x,3),l))"
   ]
  },
  {
   "cell_type": "code",
   "execution_count": 9,
   "id": "fb078a88",
   "metadata": {},
   "outputs": [
    {
     "data": {
      "text/plain": [
       "3"
      ]
     },
     "execution_count": 9,
     "metadata": {},
     "output_type": "execute_result"
    }
   ],
   "source": [
    "def count(n):\n",
    "    count1 = 0;\n",
    "    while n != 0:\n",
    "        n //= 10\n",
    "        count1 += 1\n",
    "    return count1;\n",
    "\n",
    "count(550)\n"
   ]
  },
  {
   "cell_type": "code",
   "execution_count": 13,
   "id": "06399bac",
   "metadata": {},
   "outputs": [
    {
     "data": {
      "text/plain": [
       "454368"
      ]
     },
     "execution_count": 13,
     "metadata": {},
     "output_type": "execute_result"
    }
   ],
   "source": [
    "import sys,os\n",
    "sys.getsizeof(list(range(56789)))"
   ]
  },
  {
   "cell_type": "code",
   "execution_count": 1,
   "id": "32400685",
   "metadata": {},
   "outputs": [],
   "source": [
    "import gzip\n",
    "with gzip.open(\"somefile.gz\",\"wt\") as f:\n",
    "    f.write(\"text compression\")"
   ]
  },
  {
   "cell_type": "code",
   "execution_count": 3,
   "id": "8e8003cd",
   "metadata": {},
   "outputs": [
    {
     "name": "stdout",
     "output_type": "stream",
     "text": [
      "info text compression\n"
     ]
    }
   ],
   "source": [
    "import gzip\n",
    "with gzip.open(\"somefile.gz\",\"rt\") as f:\n",
    "    t =f.read()\n",
    "    print(\"info\",t)\n",
    "    \n"
   ]
  },
  {
   "cell_type": "code",
   "execution_count": 6,
   "id": "5273955f",
   "metadata": {},
   "outputs": [],
   "source": [
    "import bz2\n",
    "with bz2.open(\"somefile1.gz\",\"wt\") as f:\n",
    "    f.write(\"text compression part2\")"
   ]
  },
  {
   "cell_type": "code",
   "execution_count": 7,
   "id": "bc176046",
   "metadata": {},
   "outputs": [
    {
     "name": "stdout",
     "output_type": "stream",
     "text": [
      "info of file text compression part2\n"
     ]
    }
   ],
   "source": [
    "import bz2\n",
    "with bz2.open(\"somefile1.gz\",\"rt\") as f:\n",
    "    t =f.read()\n",
    "    print(\"info of file\",t)\n",
    "    \n"
   ]
  },
  {
   "cell_type": "code",
   "execution_count": 8,
   "id": "4d38c1ee",
   "metadata": {},
   "outputs": [
    {
     "ename": "SyntaxError",
     "evalue": "(unicode error) 'unicodeescape' codec can't decode bytes in position 2-3: truncated \\UXXXXXXXX escape (Temp/ipykernel_7164/2119934893.py, line 2)",
     "output_type": "error",
     "traceback": [
      "\u001b[1;36m  File \u001b[1;32m\"C:\\Users\\DEPALI~1\\AppData\\Local\\Temp/ipykernel_7164/2119934893.py\"\u001b[1;36m, line \u001b[1;32m2\u001b[0m\n\u001b[1;33m    with open (\"C:\\Users\\Depali Patil\\Downloads\\annual.csv\") as b:\u001b[0m\n\u001b[1;37m                                                           ^\u001b[0m\n\u001b[1;31mSyntaxError\u001b[0m\u001b[1;31m:\u001b[0m (unicode error) 'unicodeescape' codec can't decode bytes in position 2-3: truncated \\UXXXXXXXX escape\n"
     ]
    }
   ],
   "source": [
    "data ={}\n",
    "with open (\"C:\\Users\\Depali Patil\\Downloads\\annual.csv\") as b:\n",
    "    pricelist = []\n",
    "    for rec in b:\n",
    "        rec = rec.strip\n",
    "        col= [x.strip('\"\"')for x in rec.split(',')]\n",
    "        if col[2] == \"open\" or col[2]==\"high\" :\n",
    "            continue\n",
    "        if col[1] in data:\n",
    "            data[cols[1].strip()].append(float(cols[2]))\n",
    "        else :\n",
    "            data[cols[1].strip()]= [float(cols[2])]\n",
    "        \n",
    "for year in data :\n",
    "    print(\"average\".formate(year))\n",
    "            "
   ]
  },
  {
   "cell_type": "code",
   "execution_count": 9,
   "id": "be0801a5",
   "metadata": {},
   "outputs": [],
   "source": [
    "import pickle\n",
    "dic ={\"key\":\"dipali\",\"name\":\"fred\",\"age\":22,\"pat\":23345}\n",
    "f = open(\"pickle1\",\"wb\")"
   ]
  },
  {
   "cell_type": "code",
   "execution_count": 11,
   "id": "ea7dd662",
   "metadata": {
    "scrolled": true
   },
   "outputs": [
    {
     "name": "stdout",
     "output_type": "stream",
     "text": [
      "b'\\x80\\x04\\x953\\x00\\x00\\x00\\x00\\x00\\x00\\x00}\\x94(\\x8c\\x03key\\x94\\x8c\\x06dipali\\x94\\x8c\\x04name\\x94\\x8c\\x04fred\\x94\\x8c\\x03age\\x94K\\x16\\x8c\\x03pat\\x94M1[u.'\n"
     ]
    }
   ],
   "source": [
    "pickle.dump(dic,f)\n",
    "s = pickle.dumps(dic)\n",
    "print(s)"
   ]
  },
  {
   "cell_type": "code",
   "execution_count": 13,
   "id": "ae974f27",
   "metadata": {},
   "outputs": [],
   "source": [
    "f = open('pickle1','rb')\n",
    "data =pickle.load(f)"
   ]
  },
  {
   "cell_type": "code",
   "execution_count": 14,
   "id": "5976ec1d",
   "metadata": {},
   "outputs": [
    {
     "data": {
      "text/plain": [
       "{'key': 'dipali', 'name': 'fred', 'age': 22, 'pat': 23345}"
      ]
     },
     "execution_count": 14,
     "metadata": {},
     "output_type": "execute_result"
    }
   ],
   "source": [
    "data"
   ]
  },
  {
   "cell_type": "code",
   "execution_count": 17,
   "id": "3d9e436a",
   "metadata": {},
   "outputs": [
    {
     "name": "stdout",
     "output_type": "stream",
     "text": [
      "john ==> (23, 45, 67)\n",
      "jay ==> ('ram', 'sham')\n"
     ]
    }
   ],
   "source": [
    "import pickle\n",
    "def storeData():\n",
    "    # intializing the data \n",
    "    pickel_dataset_1 = (23,45,67)\n",
    "    pickel_dataset_2 = (\"ram\",\"sham\")\n",
    "    \n",
    "    db = {}\n",
    "    db['john'] = pickel_dataset_1\n",
    "    db['jay'] = pickel_dataset_2\n",
    "    dbfile = open(\"examplepickle\", \"wb\")\n",
    "    pickle.dump(db, dbfile)\n",
    "    dbfile.close()\n",
    "\n",
    "    \n",
    "def loadData():\n",
    "    # for reading\n",
    "    \n",
    "    dbfile = open(\"examplepickle\", \"rb\")\n",
    "    db = pickle.load(dbfile)\n",
    "    for key in db:\n",
    "        print(key, \"==>\", db[key])\n",
    "    dbfile.close()\n",
    "\n",
    "    \n",
    "if __name__ =='__main__':\n",
    "    storeData()\n",
    "    loadData()\n"
   ]
  },
  {
   "cell_type": "code",
   "execution_count": 21,
   "id": "65074db2",
   "metadata": {},
   "outputs": [
    {
     "name": "stdout",
     "output_type": "stream",
     "text": [
      "{\"name\": \"dipali\", \"price\": 2300}\n"
     ]
    }
   ],
   "source": [
    "import json\n",
    "data = {\n",
    "    \"name\": \"dipali\",\n",
    "    \"price\":2300\n",
    "}\n",
    "j= json.dumps(data)\n",
    "print(j)"
   ]
  },
  {
   "cell_type": "code",
   "execution_count": 22,
   "id": "4ed74754",
   "metadata": {},
   "outputs": [
    {
     "name": "stdout",
     "output_type": "stream",
     "text": [
      "{'name': 'dipali', 'price': 2300}\n"
     ]
    }
   ],
   "source": [
    "data1 = json.loads(j)\n",
    "print(data1)"
   ]
  },
  {
   "cell_type": "code",
   "execution_count": 25,
   "id": "47addf76",
   "metadata": {},
   "outputs": [
    {
     "ename": "FileNotFoundError",
     "evalue": "[Errno 2] No such file or directory: 'data1.json'",
     "output_type": "error",
     "traceback": [
      "\u001b[1;31m---------------------------------------------------------------------------\u001b[0m",
      "\u001b[1;31mFileNotFoundError\u001b[0m                         Traceback (most recent call last)",
      "\u001b[1;32mC:\\Users\\DEPALI~1\\AppData\\Local\\Temp/ipykernel_7164/100469978.py\u001b[0m in \u001b[0;36m<module>\u001b[1;34m\u001b[0m\n\u001b[1;32m----> 1\u001b[1;33m \u001b[1;32mwith\u001b[0m \u001b[0mopen\u001b[0m\u001b[1;33m(\u001b[0m\u001b[1;34m\"data1.json\"\u001b[0m\u001b[1;33m,\u001b[0m\u001b[1;34m\"r\"\u001b[0m\u001b[1;33m)\u001b[0m\u001b[1;32mas\u001b[0m \u001b[0mf\u001b[0m\u001b[1;33m:\u001b[0m\u001b[1;33m\u001b[0m\u001b[1;33m\u001b[0m\u001b[0m\n\u001b[0m\u001b[0;32m      2\u001b[0m     \u001b[0mg\u001b[0m\u001b[1;33m=\u001b[0m\u001b[0mjson\u001b[0m\u001b[1;33m.\u001b[0m\u001b[0mload\u001b[0m\u001b[1;33m(\u001b[0m\u001b[0mf\u001b[0m\u001b[1;33m)\u001b[0m\u001b[1;33m\u001b[0m\u001b[1;33m\u001b[0m\u001b[0m\n\u001b[0;32m      3\u001b[0m     \u001b[0mprint\u001b[0m\u001b[1;33m(\u001b[0m\u001b[0mg\u001b[0m\u001b[1;33m)\u001b[0m\u001b[1;33m\u001b[0m\u001b[1;33m\u001b[0m\u001b[0m\n",
      "\u001b[1;31mFileNotFoundError\u001b[0m: [Errno 2] No such file or directory: 'data1.json'"
     ]
    }
   ],
   "source": [
    "with open(\"data1.json\",\"r\")as f:\n",
    "    g=json.load(f)\n",
    "    print(g)"
   ]
  },
  {
   "cell_type": "code",
   "execution_count": null,
   "id": "38a5b8b2",
   "metadata": {},
   "outputs": [],
   "source": []
  },
  {
   "cell_type": "code",
   "execution_count": null,
   "id": "5a2a5575",
   "metadata": {},
   "outputs": [],
   "source": []
  }
 ],
 "metadata": {
  "kernelspec": {
   "display_name": "Python 3 (ipykernel)",
   "language": "python",
   "name": "python3"
  },
  "language_info": {
   "codemirror_mode": {
    "name": "ipython",
    "version": 3
   },
   "file_extension": ".py",
   "mimetype": "text/x-python",
   "name": "python",
   "nbconvert_exporter": "python",
   "pygments_lexer": "ipython3",
   "version": "3.9.7"
  }
 },
 "nbformat": 4,
 "nbformat_minor": 5
}
